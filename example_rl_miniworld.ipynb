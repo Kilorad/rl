{
 "cells": [
  {
   "cell_type": "code",
   "execution_count": 2,
   "metadata": {},
   "outputs": [
    {
     "name": "stderr",
     "output_type": "stream",
     "text": [
      "Using TensorFlow backend.\n"
     ]
    }
   ],
   "source": [
    "import sys\n",
    "sys.path.insert(1, './env')\n",
    "sys.path.insert(1, './agents')\n",
    "\n",
    "import gym\n",
    "import pylab\n",
    "import random\n",
    "import aa_gun\n",
    "import strategy_imitation, sarsa\n",
    "import numpy as np\n",
    "from collections import deque\n",
    "import keras\n",
    "from keras.layers import Dense, Dropout\n",
    "from keras.optimizers import Adam\n",
    "from keras.models import Sequential\n",
    "from keras.layers.normalization import BatchNormalization\n",
    "import matplotlib.pyplot as plt\n",
    "\n",
    "import gym_miniworld\n",
    "from gym_miniworld.wrappers import PyTorchObsWrapper, GreyscaleWrapper\n",
    "\n",
    "EPISODES = 30000"
   ]
  },
  {
   "cell_type": "code",
   "execution_count": null,
   "metadata": {},
   "outputs": [
    {
     "name": "stdout",
     "output_type": "stream",
     "text": [
      "Falling back to num_samples=8\n",
      "Model: \"sequential_3\"\n",
      "_________________________________________________________________\n",
      "Layer (type)                 Output Shape              Param #   \n",
      "=================================================================\n",
      "dense_7 (Dense)              (None, 160)               2304160   \n",
      "_________________________________________________________________\n",
      "batch_normalization_5 (Batch (None, 160)               640       \n",
      "_________________________________________________________________\n",
      "dropout_5 (Dropout)          (None, 160)               0         \n",
      "_________________________________________________________________\n",
      "dense_8 (Dense)              (None, 160)               25760     \n",
      "_________________________________________________________________\n",
      "batch_normalization_6 (Batch (None, 160)               640       \n",
      "_________________________________________________________________\n",
      "dropout_6 (Dropout)          (None, 160)               0         \n",
      "_________________________________________________________________\n",
      "dense_9 (Dense)              (None, 1)                 161       \n",
      "=================================================================\n",
      "Total params: 2,331,361\n",
      "Trainable params: 2,330,721\n",
      "Non-trainable params: 640\n",
      "_________________________________________________________________\n",
      "Model: \"sequential_4\"\n",
      "_________________________________________________________________\n",
      "Layer (type)                 Output Shape              Param #   \n",
      "=================================================================\n",
      "dense_10 (Dense)             (None, 160)               2304640   \n",
      "_________________________________________________________________\n",
      "batch_normalization_7 (Batch (None, 160)               640       \n",
      "_________________________________________________________________\n",
      "dropout_7 (Dropout)          (None, 160)               0         \n",
      "_________________________________________________________________\n",
      "dense_11 (Dense)             (None, 160)               25760     \n",
      "_________________________________________________________________\n",
      "batch_normalization_8 (Batch (None, 160)               640       \n",
      "_________________________________________________________________\n",
      "dropout_8 (Dropout)          (None, 160)               0         \n",
      "_________________________________________________________________\n",
      "dense_12 (Dense)             (None, 1)                 161       \n",
      "=================================================================\n",
      "Total params: 2,331,841\n",
      "Trainable params: 2,331,201\n",
      "Non-trainable params: 640\n",
      "_________________________________________________________________\n",
      "episode: 0   score: 0.9184   memory length: 102   epsilon: 0.9029834676116293\n",
      "episode: 1   score: 0   memory length: 352   epsilon: 0.7031562730010349\n",
      "episode: 2   score: 0   memory length: 602   epsilon: 0.547550162317433\n",
      "episode: 3   score: 0   memory length: 852   epsilon: 0.4263791588948904\n",
      "episode: 4   score: 0   memory length: 1102   epsilon: 0.33202288968461574\n",
      "episode: 5   score: 0.8815999999999999   memory length: 1250   epsilon: 0.28632566791652947\n",
      "episode: 6   score: 0   memory length: 1500   epsilon: 0.22296276370290227\n",
      "episode: 7   score: 0.8768   memory length: 1654   epsilon: 0.19112501203815097\n",
      "episode: 8   score: 0   memory length: 1904   epsilon: 0.14882969175225835\n",
      "episode: 9   score: 0   memory length: 2154   epsilon: 0.11589418313627514\n",
      "episode: 10   score: 0   memory length: 2404   epsilon: 0.09024719144874982\n",
      "episode: 11   score: 0   memory length: 2654   epsilon: 0.07027579248572341\n",
      "episode: 12   score: 0   memory length: 2904   epsilon: 0.054723996727378314\n",
      "episode: 13   score: 0   memory length: 3154   epsilon: 0.04261376089677665\n",
      "episode: 14   score: 0   memory length: 3404   epsilon: 0.0331834793941346\n",
      "episode: 15   score: 0.8744   memory length: 3561   epsilon: 0.028359826704686168\n",
      "episode: 16   score: 0   memory length: 3811   epsilon: 0.022083892744312248\n",
      "episode: 17   score: 0   memory length: 4061   epsilon: 0.017196801793633632\n",
      "episode: 18   score: 0   memory length: 4311   epsilon: 0.013391207580723626\n",
      "episode: 19   score: 0.8304   memory length: 4523   epsilon: 0.010831865185917456\n",
      "episode: 20   score: 0   memory length: 4773   epsilon: 0.009998671593271896\n",
      "Epoch 1/10\n",
      "5023/5023 [==============================] - 1s 259us/step - loss: 0.5823\n",
      "Epoch 2/10\n",
      "5023/5023 [==============================] - 1s 261us/step - loss: 0.5820\n",
      "Epoch 3/10\n",
      "5023/5023 [==============================] - 1s 257us/step - loss: 0.5821\n",
      "Epoch 4/10\n",
      "5023/5023 [==============================] - 1s 263us/step - loss: 0.5810\n",
      "Epoch 5/10\n",
      "5023/5023 [==============================] - 1s 265us/step - loss: 0.5780\n",
      "Epoch 6/10\n",
      "5023/5023 [==============================] - 1s 270us/step - loss: 0.5783\n",
      "Epoch 7/10\n",
      "5023/5023 [==============================] - 1s 267us/step - loss: 0.5776\n",
      "Epoch 8/10\n",
      "5023/5023 [==============================] - 1s 263us/step - loss: 0.5751\n",
      "Epoch 9/10\n",
      "5023/5023 [==============================] - 1s 265us/step - loss: 0.5734\n",
      "Epoch 10/10\n",
      "5023/5023 [==============================] - 1s 269us/step - loss: 0.5718\n",
      "Epoch 1/10\n",
      "5023/5023 [==============================] - 1s 256us/step - loss: 2.0447\n",
      "Epoch 2/10\n",
      "5023/5023 [==============================] - 1s 265us/step - loss: 2.0506\n",
      "Epoch 3/10\n",
      "5023/5023 [==============================] - 1s 260us/step - loss: 2.0485\n",
      "Epoch 4/10\n",
      "5023/5023 [==============================] - 1s 257us/step - loss: 2.0244\n",
      "Epoch 5/10\n",
      "5023/5023 [==============================] - 1s 259us/step - loss: 2.0421\n",
      "Epoch 6/10\n",
      "5023/5023 [==============================] - 1s 263us/step - loss: 2.0193\n",
      "Epoch 7/10\n",
      "5023/5023 [==============================] - 1s 265us/step - loss: 2.0232\n",
      "Epoch 8/10\n",
      "5023/5023 [==============================] - 1s 266us/step - loss: 2.0111\n",
      "Epoch 9/10\n",
      "5023/5023 [==============================] - 1s 265us/step - loss: 1.9968\n",
      "Epoch 10/10\n",
      "5023/5023 [==============================] - 1s 266us/step - loss: 1.9999\n",
      "episode: 21   score: 0   memory length: 5023   epsilon: 0.009998671593271896\n",
      "Epoch 1/1\n",
      "5273/5273 [==============================] - 1s 255us/step - loss: 0.1835\n",
      "Epoch 1/1\n",
      "5273/5273 [==============================] - 1s 258us/step - loss: 2.2334\n",
      "episode: 22   score: 0   memory length: 5273   epsilon: 0.009998671593271896\n",
      "Epoch 1/1\n",
      "5523/5523 [==============================] - 1s 255us/step - loss: 0.0794\n",
      "Epoch 1/1\n",
      "5523/5523 [==============================] - 1s 265us/step - loss: 2.9627\n",
      "episode: 23   score: 0   memory length: 5523   epsilon: 0.009998671593271896\n",
      "Epoch 1/1\n",
      "5773/5773 [==============================] - 1s 256us/step - loss: 0.0457\n",
      "Epoch 1/1\n",
      "5773/5773 [==============================] - 1s 256us/step - loss: 1.8424\n",
      "episode: 24   score: 0   memory length: 5773   epsilon: 0.009998671593271896\n"
     ]
    }
   ],
   "source": [
    "# In case of CartPole-v1, maximum length of episode is 500\n",
    "env = gym.make('MiniWorld-Hallway-v0')\n",
    "#env=CartPoleEnv9()\n",
    "# get size of state and action from environment\n",
    "state_size = env.observation_space.shape[0]*env.observation_space.shape[1]*env.observation_space.shape[2]\n",
    "action_size = env.action_space.n\n",
    "\n",
    "#agent = DoubleDQNAgent(state_size, action_size)\n",
    "agent = sarsa.SarsaAgent(state_size, action_size)\n",
    "agent.train_start=5000\n",
    "agent.planning_horison=100\n",
    "agent.discount_factor=0.99\n",
    "#agent = strategy_imitation.ImitAgent(state_size, action_size)\n",
    "agent.render=False\n",
    "\n",
    "scores, episodes = [], []\n",
    "reward_lst = []\n",
    "s_list=[]\n",
    "a_list=[]\n",
    "\n",
    "for e in range(EPISODES):\n",
    "    done = False\n",
    "    score = 0\n",
    "    state = env.reset()\n",
    "    state = np.reshape(state, [1, state_size])\n",
    "\n",
    "    while not done:\n",
    "        if (e in range(2,7)) or (e in range(20,25)) or (e in range(100,103)) or (e in range(200,202)) or (e in range(300,306)) or (e in range(400,406)) or (e in range(500,506)) or (e in range(600,604)):\n",
    "            if agent.render:\n",
    "                env.render()\n",
    "\n",
    "        # get action for the current state and go one step in environment\n",
    "        action = agent.get_action(state)\n",
    "        next_state, reward, done, info = env.step(action)\n",
    "        next_state = np.reshape(next_state, [1, state_size])\n",
    "        # if an action make the episode end, then gives penalty of -100\n",
    "        \n",
    "\n",
    "        # save the sample <s, a, r, s'> to the replay memory\n",
    "        agent.append_sample(state, action, reward, next_state, done)\n",
    "        #if next_state[0,11]!=reward:\n",
    "        #    print('state[13]!=reward',state[0,11],reward)\n",
    "        #\n",
    "        s_list.append(state)\n",
    "        a_list.append(action)\n",
    "        reward_lst.append(reward)\n",
    "        #\n",
    "        \n",
    "        # every time step do the training\n",
    "        agent.train_model()\n",
    "        score += reward\n",
    "        state = next_state\n",
    "\n",
    "        if done:\n",
    "            # every episode update the target model to be same with model\n",
    "            agent.update_target_model()\n",
    "\n",
    "            # every episode, plot the play time\n",
    "            scores.append(score)\n",
    "            episodes.append(e)\n",
    "            pylab.plot(episodes, scores, 'b')\n",
    "            #pylab.savefig(\"./save_graph/aa_gun_dqn.png\")\n",
    "            print(\"episode:\", e, \"  score:\", score, \"  memory length:\",\n",
    "                  len(agent.memory), \"  epsilon:\", agent.epsilon)\n",
    "\n",
    "            # if the mean of scores of last 10 episode is bigger than 490\n",
    "            # stop training\n",
    "\n",
    "    # save the model\n",
    "    #if e % 50 == 0:\n",
    "    #    agent.model.save_weights(\"./save_model/aa_gun_dqn.h5\")"
   ]
  },
  {
   "cell_type": "code",
   "execution_count": 4,
   "metadata": {},
   "outputs": [],
   "source": [
    "def make_sar_table(s,a,r):\n",
    "    #print(np.array(a,ndmin=2).T.shape)\n",
    "    #print(np.array(r,ndmin=2).T.shape)\n",
    "    #print(np.array(s,ndmin=2)[:,0,:].shape)\n",
    "    return np.hstack( (np.array(s,ndmin=2)[:,0,:],np.array(a,ndmin=2).T,np.array(r,ndmin=2).T) )"
   ]
  },
  {
   "cell_type": "code",
   "execution_count": 5,
   "metadata": {},
   "outputs": [
    {
     "name": "stdout",
     "output_type": "stream",
     "text": [
      "0.0005101253977166386\n"
     ]
    },
    {
     "data": {
      "text/plain": [
       "[<matplotlib.lines.Line2D at 0x7fc97a23ac18>]"
      ]
     },
     "execution_count": 5,
     "metadata": {},
     "output_type": "execute_result"
    },
    {
     "data": {
      "image/png": "[encoded data removed]",
      "text/plain": [
       "<Figure size 432x288 with 1 Axes>"
      ]
     },
     "metadata": {
      "needs_background": "light"
     },
     "output_type": "display_data"
    }
   ],
   "source": [
    "import matplotlib.pyplot as plt\n",
    "print(np.mean(reward_lst))\n",
    "plt.plot(reward_lst)"
   ]
  },
  {
   "cell_type": "code",
   "execution_count": 6,
   "metadata": {},
   "outputs": [
    {
     "data": {
      "text/plain": [
       "[<matplotlib.lines.Line2D at 0x7fc97a2e9860>]"
      ]
     },
     "execution_count": 6,
     "metadata": {},
     "output_type": "execute_result"
    },
    {
     "data": {
      "image/png": "[encoded data removed]",
      "text/plain": [
       "<Figure size 432x288 with 1 Axes>"
      ]
     },
     "metadata": {
      "needs_background": "light"
     },
     "output_type": "display_data"
    }
   ],
   "source": [
    "plt.plot(agent.r_disco)"
   ]
  },
  {
   "cell_type": "code",
   "execution_count": 7,
   "metadata": {},
   "outputs": [
    {
     "data": {
      "text/plain": [
       "0.0005101253977166386"
      ]
     },
     "execution_count": 7,
     "metadata": {},
     "output_type": "execute_result"
    }
   ],
   "source": [
    "np.mean(reward_lst)"
   ]
  },
  {
   "cell_type": "code",
   "execution_count": 9,
   "metadata": {},
   "outputs": [
    {
     "data": {
      "text/plain": [
       "0.08392727272727273"
      ]
     },
     "execution_count": 9,
     "metadata": {},
     "output_type": "execute_result"
    }
   ],
   "source": [
    "np.mean(scores)"
   ]
  },
  {
   "cell_type": "code",
   "execution_count": null,
   "metadata": {},
   "outputs": [],
   "source": [
    "#Чтобы анализировать разрешимость задачи\n",
    "def replicate_reward(sar,border=0,wanted_part=0.5):\n",
    "    part = np.mean(sar[:,-1:]>border)\n",
    "    if part==0:\n",
    "        print('ERROR')\n",
    "        return(sar)\n",
    "    else:\n",
    "        while part<wanted_part:\n",
    "            sar=np.vstack((sar,sar[np.where(sar[:,-1:]>border)[0],:]))\n",
    "            part = np.mean(sar[:,-1:]>border)\n",
    "        print(part)\n",
    "        return(sar)"
   ]
  },
  {
   "cell_type": "code",
   "execution_count": null,
   "metadata": {},
   "outputs": [],
   "source": [
    "sar=make_sar_table(s_list,a_list,reward_lst)\n",
    "sar=replicate_reward(sar)\n",
    "X=sar[1:,:]\n",
    "Y=sar[:-1,:]\n",
    "Y=sar[:-1,-1:]\n",
    "Y=sar[1:,-1:]\n",
    "sar_width=X.shape[1]\n",
    "nn = Sequential()\n",
    "nn.add(Dense(200, input_dim=sar_width, activation='relu',\n",
    "                kernel_initializer='he_uniform',kernel_regularizer=keras.regularizers.l2(0.01)))\n",
    "nn.add(BatchNormalization())\n",
    "nn.add(Dropout(0.2))\n",
    "nn.add(Dense(200, activation='relu',\n",
    "                kernel_initializer='he_uniform',kernel_regularizer=keras.regularizers.l2(0.01)))\n",
    "nn.add(Dropout(0.2))\n",
    "nn.add(BatchNormalization())\n",
    "nn.add(Dense(200, activation='relu',\n",
    "                kernel_initializer='he_uniform',kernel_regularizer=keras.regularizers.l2(0.01)))\n",
    "nn.add(Dropout(0.2))\n",
    "nn.add(BatchNormalization())\n",
    "#nn.add(Dense(sar_width, activation='linear',\n",
    "#                kernel_initializer='he_uniform'))\n",
    "nn.add(Dense(1, activation='linear',\n",
    "                kernel_initializer='he_uniform'))\n",
    "\n",
    "nn.summary()\n",
    "nn.compile(loss='mse', optimizer=Adam(lr=0.001))\n",
    "l=X.shape[0]\n",
    "X_train=X[:int(l/2),:]\n",
    "Y_train=Y[:int(l/2),:]\n",
    "X_test=X[int(l/2):,:]\n",
    "Y_test=Y[int(l/2):,:]\n",
    "nn.fit(X_train, Y_train, batch_size=1200,epochs=30000, verbose=1)"
   ]
  },
  {
   "cell_type": "code",
   "execution_count": null,
   "metadata": {},
   "outputs": [],
   "source": [
    "Y_pred=np.array(nn.predict(X_test),ndmin=2)\n",
    "mse = np.mean((Y_pred-Y_test)**2)\n",
    "print(mse)\n",
    "rmae=np.mean(np.abs(Y_pred-Y_test))/np.mean(np.abs(Y_test))\n",
    "print(rmae)\n",
    "rmae_diversed=np.mean(np.abs(Y_pred-Y_test),axis=0)/np.mean(np.abs(Y_test),axis=0)\n",
    "print(rmae_diversed)"
   ]
  },
  {
   "cell_type": "code",
   "execution_count": null,
   "metadata": {},
   "outputs": [],
   "source": [
    "colnumn_num=-1\n",
    "plt.plot(Y_pred[:3000,colnumn_num])\n",
    "plt.plot(Y_test[:3000,colnumn_num])\n",
    "plt.show()"
   ]
  },
  {
   "cell_type": "code",
   "execution_count": null,
   "metadata": {},
   "outputs": [],
   "source": [
    "#train (переобучение?)\n",
    "Y_pred=np.array(nn.predict(X_train),ndmin=2)\n",
    "mse = np.mean((Y_pred-Y_train)**2)\n",
    "print(mse)\n",
    "rmae=np.mean(np.abs(Y_pred-Y_train))/np.mean(np.abs(Y_train))\n",
    "print(rmae)\n",
    "rmae_diversed=np.mean(np.abs(Y_pred-Y_train),axis=0)/np.mean(np.abs(Y_train),axis=0)\n",
    "print(rmae_diversed)\n",
    "\n",
    "colnumn_num=-1\n",
    "plt.plot(Y_pred[:1300,colnumn_num])\n",
    "plt.plot(Y_train[:1300,colnumn_num])\n",
    "plt.show()"
   ]
  },
  {
   "cell_type": "code",
   "execution_count": null,
   "metadata": {},
   "outputs": [],
   "source": [
    "import xgboost as xgb\n",
    "xgbparams = {\n",
    "    'booster':'gbtree',\n",
    "    'metric':'mse',\n",
    "    'objective':'reg:squarederror',\n",
    "    'verbosity':0,\n",
    "    'max_depth': 7,\n",
    "    'n_estimators': 90,\n",
    "    'eta': 0.3,\n",
    "    'nthreads': 2,\n",
    "    'seed':0\n",
    "}\n",
    "nn=xgb.XGBRegressor(**xgbparams)\n",
    "nn.fit(X_train[:int(l/4),:], Y_train[:int(l/4),:],\n",
    "           eval_set=[(X_train[int(l/4):,:], Y_train[int(l/4):,:])],\n",
    "           verbose=True)"
   ]
  },
  {
   "cell_type": "code",
   "execution_count": null,
   "metadata": {},
   "outputs": [],
   "source": [
    "import pandas as pd\n",
    "df=pd.DataFrame(sar)\n",
    "df[df[13]>0]"
   ]
  },
  {
   "cell_type": "code",
   "execution_count": null,
   "metadata": {},
   "outputs": [],
   "source": []
  }
 ],
 "metadata": {
  "kernelspec": {
   "display_name": "Python 3",
   "language": "python",
   "name": "python3"
  },
  "language_info": {
   "codemirror_mode": {
    "name": "ipython",
    "version": 3
   },
   "file_extension": ".py",
   "mimetype": "text/x-python",
   "name": "python",
   "nbconvert_exporter": "python",
   "pygments_lexer": "ipython3",
   "version": "3.7.3"
  }
 },
 "nbformat": 4,
 "nbformat_minor": 2
}
