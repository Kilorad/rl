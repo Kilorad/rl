{
 "cells": [
  {
   "cell_type": "code",
   "execution_count": 1,
   "metadata": {},
   "outputs": [],
   "source": [
    "#попытаюсь сделать декодер к mobilenet. Который из эмбеддинга будет восстанавливать картинку\n",
    "import os\n",
    "import sys\n",
    "sys.path.insert(1, '../env')\n",
    "sys.path.insert(1, '../agents')\n",
    "sys.path.insert(1, '../')\n",
    "\n",
    "import random\n",
    "import numpy as np\n",
    "import keras\n",
    "\n",
    "import warnings\n",
    "warnings.filterwarnings(\"ignore\")\n",
    "\n",
    "import matplotlib.pyplot as plt\n",
    "import pandas as pd\n",
    "import pickle\n",
    "import copy\n",
    "\n",
    "import tensorflow as tf\n",
    "import keras\n",
    "from tensorflow.keras import layers\n",
    "from keras.models import Sequential\n",
    "from keras.layers import Deconvolution2D\n",
    "from keras.layers.normalization import BatchNormalization\n",
    "from keras.layers import Dense, Dropout\n",
    "from keras.layers import GRU, LSTM\n",
    "from keras.optimizers import Adam\n",
    "\n",
    "\n",
    "physical_devices = tf.config.experimental.list_physical_devices('GPU')\n",
    "tf.config.experimental.set_memory_growth(physical_devices[0], True)\n",
    "\n",
    "physical_devices = tf.config.list_physical_devices('GPU')\n",
    "tf.config.experimental.set_memory_growth(physical_devices[0], enable=True)"
   ]
  },
  {
   "cell_type": "code",
   "execution_count": null,
   "metadata": {},
   "outputs": [],
   "source": [
    "# apply a 3x3 transposed convolution with stride 1x1 and 3 output filters on a 12x12 image:\n",
    "model = Sequential()\n",
    "model.add(Deconvolution2D(3, 3, 3, output_shape=(32, 14, 14, 3), border_mode='valid', input_shape=(1280, 1, 1)))\n",
    "model.summary()\n",
    "# Note that you will have to change the output_shape depending on the backend used.\n",
    "# we can predict with the model and print the shape of the array.\n",
    "dummy_input = np.ones((32, 12, 12, 3))\n",
    "# For TensorFlow dummy_input = np.ones((32, 12, 12, 3))\n",
    "preds = model.predict(dummy_input)\n",
    "print(preds.shape)\n",
    "# Theano GPU: (None, 3, 13, 13)\n",
    "# Theano CPU: (None, 3, 14, 14)\n",
    "# TensorFlow: (None, 14, 14, 3)\n",
    "\n",
    "model = Sequential()\n",
    "model.add(Deconvolution2D(3, 3, 3, output_shape=(32, 25, 25, 3), subsample=(2, 2), border_mode='valid', input_shape=(12, 12, 3)))\n",
    "model.summary()\n",
    "\n",
    "# we can predict with the model and print the shape of the array.\n",
    "dummy_input = np.ones((32, 12, 12, 3))\n",
    "# For TensorFlow dummy_input = np.ones((32, 12, 12, 3))\n",
    "preds = model.predict(dummy_input)\n",
    "print(preds.shape)\n",
    "# Theano GPU: (None, 3, 25, 25)\n",
    "# Theano CPU: (None, 3, 25, 25)\n",
    "# TensorFlow: (None, 25, 25, 3)"
   ]
  }
 ],
 "metadata": {
  "kernelspec": {
   "display_name": "Python 3",
   "language": "python",
   "name": "python3"
  },
  "language_info": {
   "codemirror_mode": {
    "name": "ipython",
    "version": 3
   },
   "file_extension": ".py",
   "mimetype": "text/x-python",
   "name": "python",
   "nbconvert_exporter": "python",
   "pygments_lexer": "ipython3",
   "version": "3.7.4"
  }
 },
 "nbformat": 4,
 "nbformat_minor": 2
}
